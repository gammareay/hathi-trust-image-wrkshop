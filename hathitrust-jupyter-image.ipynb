{
 "cells": [
  {
   "cell_type": "code",
   "execution_count": null,
   "metadata": {},
   "outputs": [],
   "source": [
    "#only run if launching from Binder\n",
    "pip install hathitrust-api"
   ]
  },
  {
   "cell_type": "markdown",
   "metadata": {},
   "source": [
    "You need to register with HathiTrust before using the Data API. Head over to the [registration portal](https://babel.hathitrust.org/cgi/kgs/request) and fill out your name, organization, and email to request access keys. You should receive an email response within a minute or so. The email will link you to a one-time page with both keys displayed."
   ]
  },
  {
   "cell_type": "code",
   "execution_count": 25,
   "metadata": {},
   "outputs": [],
   "source": [
    "# Import the HT Data API wrapper\n",
    "from hathitrust_api import DataAPI\n",
    "\n",
    "# Replace placeholder strings with your HT credentials (leaving the quote marks)\n",
    "ht_access_key = \"YOUR ACCESS KEY HERE\"\n",
    "ht_secret_key = \"YOUR SECRET KEY HERE\"\n",
    "\n",
    "# instantiate the Data API connection object\n",
    "data_api = DataAPI(ht_access_key, ht_secret_key)"
   ]
  },
  {
   "cell_type": "code",
   "execution_count": 26,
   "metadata": {
    "scrolled": true
   },
   "outputs": [],
   "source": [
    "# assorted imports from Python standard library\n",
    "import json\n",
    "import os\n",
    "import time"
   ]
  },
  {
   "cell_type": "markdown",
   "metadata": {},
   "source": [
    "HathiTrust allows anyone to make a collection of items. You don’t even have to be logged in but you can register for an account if you want to save your list of volumes. Follow the [instructions](https://babel.hathitrust.org/cgi/mb?colltype=updated) to do some full-text searches and then add selected results to a collection. "
   ]
  },
  {
   "cell_type": "code",
   "execution_count": 27,
   "metadata": {},
   "outputs": [],
   "source": [
    "# JSON metadata file downloaded from HT\n",
    "metadata_path = \"895687233-1610059557.json\""
   ]
  },
  {
   "cell_type": "code",
   "execution_count": 28,
   "metadata": {},
   "outputs": [
    {
     "data": {
      "text/plain": [
       "dict_keys(['id', 'type', 'description', 'created', 'extent', 'formats', 'publisher', 'title', 'visibility', 'gathers'])"
      ]
     },
     "execution_count": 28,
     "metadata": {},
     "output_type": "execute_result"
    }
   ],
   "source": [
    "# the preferred syntax for opening/closing files in Python\n",
    "with open(metadata_path, \"r\") as fp:\n",
    "    data = json.load(fp)\n",
    "\n",
    "# the last line in a cell is always excuted and its return value displayed\n",
    "data.keys()"
   ]
  },
  {
   "cell_type": "code",
   "execution_count": 29,
   "metadata": {},
   "outputs": [
    {
     "data": {
      "text/plain": [
       "[{'title': 'The seven lamps of architecture ',\n",
       "  'author': 'Ruskin, John, 1819-1900.',\n",
       "  'date': '1913-00-00',\n",
       "  'rights': 'pd',\n",
       "  'oclc': ['21076561'],\n",
       "  'lccn': None,\n",
       "  'isbn': None,\n",
       "  'catalog_url': 'https://catalog.hathitrust.org/Record/100191655',\n",
       "  'htitem_id': 'uc1.c034715755'}]"
      ]
     },
     "execution_count": 29,
     "metadata": {},
     "output_type": "execute_result"
    }
   ],
   "source": [
    "# the gathers field is what actually contains the list of volumes in the collection\n",
    "data['gathers']"
   ]
  },
  {
   "cell_type": "code",
   "execution_count": 30,
   "metadata": {},
   "outputs": [
    {
     "data": {
      "text/plain": [
       "['uc1.c034715755']"
      ]
     },
     "execution_count": 30,
     "metadata": {},
     "output_type": "execute_result"
    }
   ],
   "source": [
    "# list comprehension to get only the volume ids\n",
    "vol_ids = [item['htitem_id'] for item in data['gathers']]\n",
    "vol_ids"
   ]
  },
  {
   "cell_type": "code",
   "execution_count": 31,
   "metadata": {},
   "outputs": [],
   "source": [
    "def ht_picture_download(item_id, out_dir=None):\n",
    "    \"\"\"\n",
    "    :param item_id: unique HathiTrust volume identifier\n",
    "    :param out_dir: destination for images; if None, no download\n",
    "    \n",
    "    Note: if supplied, out_dir must be an existing directory and\n",
    "    the caller must have write permissions in that directory\n",
    "    \n",
    "    :rtype list of pages with IMAGE_ON_PAGE feature\n",
    "    \"\"\"\n",
    "    \n",
    "    print(\"[{}] Starting processing\".format(item_id))\n",
    "    \n",
    "    # metadata from API in json format (different than HT collection metadata)\n",
    "    meta = json.loads(data_api.getmeta(item_id, json=True))\n",
    "\n",
    "    # sequence gets us each page of the PDF in order, with any\n",
    "    # additional information that might be available for it\n",
    "    sequence = meta['htd:seqmap'][0]['htd:seq']\n",
    "\n",
    "    # list of pages with pictures (empty to start)\n",
    "    img_pages = []\n",
    "\n",
    "    # try/except block handles situation where no \"pfeats\" exist OR\n",
    "    # the sequence numbers are not numeric\n",
    "    for page in sequence:\n",
    "        try:\n",
    "            if 'IMAGE_ON_PAGE' in page['htd:pfeat']:\n",
    "                img_pages.append(int(page['pseq']))\n",
    "        except (KeyError, TypeError) as e:\n",
    "            continue\n",
    "        \n",
    "    # track for download progress report\n",
    "    total_pages = len(img_pages)\n",
    "\n",
    "    # if out_dir is not None, then also download page images\n",
    "    if out_dir:\n",
    "        \n",
    "         # return if folder already exists (reasonable inference that volume already processed)\n",
    "        if os.path.isdir(out_dir):\n",
    "            print(\"[{}] Directory already exists.\".format(item_id))\n",
    "            return img_pages\n",
    "\n",
    "        # otherwise, create folder to put the images\n",
    "        print(\"[{}] Making directory {}\".format(item_id, out_dir))\n",
    "        os.makedirs(out_dir)\n",
    "        \n",
    "        for i, page in enumerate(img_pages):\n",
    "            try:\n",
    "                # simple status message\n",
    "                print(\"[{}] Downloading page {} ({}/{})\".format(item_id, page, i+1, total_pages))\n",
    "                \n",
    "                img = data_api.getpageimage(item_id, page)\n",
    "            \n",
    "                img_out = os.path.join(out_dir, str(page) + \".jpg\")\n",
    "    \n",
    "                # write out the image\n",
    "                with open(img_out, 'wb') as fp:\n",
    "                    fp.write(img)\n",
    "\n",
    "                # to avoid exceeding the allowed API usage, we take a quick\n",
    "                # two-second break before requesting the next image\n",
    "                time.sleep(2)\n",
    "\n",
    "            except Exception as e:\n",
    "                print(\"[{}] Error downloading page {}: {}\".format(item_id, page,e))\n",
    "                \n",
    "    # return the list of image pages\n",
    "    return img_pages"
   ]
  },
  {
   "cell_type": "code",
   "execution_count": 3,
   "metadata": {},
   "outputs": [
    {
     "ename": "NameError",
     "evalue": "name 'vol_ids' is not defined",
     "output_type": "error",
     "traceback": [
      "\u001b[1;31m---------------------------------------------------------------------------\u001b[0m",
      "\u001b[1;31mNameError\u001b[0m                                 Traceback (most recent call last)",
      "\u001b[1;32m<ipython-input-3-e15785778049>\u001b[0m in \u001b[0;36m<module>\u001b[1;34m\u001b[0m\n\u001b[0;32m      1\u001b[0m \u001b[1;31m# loop over volumes in our collection\u001b[0m\u001b[1;33m\u001b[0m\u001b[1;33m\u001b[0m\u001b[1;33m\u001b[0m\u001b[0m\n\u001b[1;32m----> 2\u001b[1;33m \u001b[1;32mfor\u001b[0m \u001b[0mitem_id\u001b[0m \u001b[1;32min\u001b[0m \u001b[0mvol_ids\u001b[0m\u001b[1;33m:\u001b[0m\u001b[1;33m\u001b[0m\u001b[1;33m\u001b[0m\u001b[0m\n\u001b[0m\u001b[0;32m      3\u001b[0m     \u001b[0mdestination\u001b[0m \u001b[1;33m=\u001b[0m \u001b[0mos\u001b[0m\u001b[1;33m.\u001b[0m\u001b[0mpath\u001b[0m\u001b[1;33m.\u001b[0m\u001b[0mjoin\u001b[0m\u001b[1;33m(\u001b[0m\u001b[1;34m\"items\"\u001b[0m\u001b[1;33m,\u001b[0m \u001b[1;34m\"hathitrust\"\u001b[0m\u001b[1;33m,\u001b[0m \u001b[0mitem_id\u001b[0m\u001b[1;33m)\u001b[0m\u001b[1;33m\u001b[0m\u001b[1;33m\u001b[0m\u001b[0m\n\u001b[0;32m      4\u001b[0m     \u001b[0mht_picture_download\u001b[0m\u001b[1;33m(\u001b[0m\u001b[0mitem_id\u001b[0m\u001b[1;33m,\u001b[0m \u001b[0mout_dir\u001b[0m\u001b[1;33m=\u001b[0m\u001b[0mdestination\u001b[0m\u001b[1;33m)\u001b[0m\u001b[1;33m\u001b[0m\u001b[1;33m\u001b[0m\u001b[0m\n\u001b[0;32m      5\u001b[0m     \u001b[0mprint\u001b[0m\u001b[1;33m(\u001b[0m\u001b[0mdestination\u001b[0m\u001b[1;33m)\u001b[0m\u001b[1;33m\u001b[0m\u001b[1;33m\u001b[0m\u001b[0m\n",
      "\u001b[1;31mNameError\u001b[0m: name 'vol_ids' is not defined"
     ]
    }
   ],
   "source": [
    "# loop over volumes in our collection\n",
    "for item_id in vol_ids:\n",
    "    destination = os.path.join(\"items\", \"hathitrust\", item_id)\n",
    "    ht_picture_download(item_id, out_dir=destination)\n",
    "    print(destination)"
   ]
  }
 ],
 "metadata": {
  "kernelspec": {
   "display_name": "Python 3",
   "language": "python",
   "name": "python3"
  },
  "language_info": {
   "codemirror_mode": {
    "name": "ipython",
    "version": 3
   },
   "file_extension": ".py",
   "mimetype": "text/x-python",
   "name": "python",
   "nbconvert_exporter": "python",
   "pygments_lexer": "ipython3",
   "version": "3.9.1"
  }
 },
 "nbformat": 4,
 "nbformat_minor": 2
}
